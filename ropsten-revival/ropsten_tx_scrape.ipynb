{
 "cells": [
  {
   "cell_type": "code",
   "execution_count": 1,
   "metadata": {
    "collapsed": true,
    "deletable": true,
    "editable": true
   },
   "outputs": [],
   "source": [
    "### To install dependencies and run this notebook:\n",
    "\n",
    "# mkdir ropsten_revival\n",
    "# cd ropsten_revival\n",
    "# pipenv --two\n",
    "# pipenv install git+https://github.com/ethereum/pyethereum@eip155#egg=ethereum\n",
    "# pipenv install bitcoin\n",
    "# pipenv install jupyter\n",
    "# pipenv shell\n",
    "# jupyter notebook"
   ]
  },
  {
   "cell_type": "code",
   "execution_count": 2,
   "metadata": {
    "collapsed": false,
    "deletable": true,
    "editable": true
   },
   "outputs": [],
   "source": [
    "import json\n",
    "import random\n",
    "\n",
    "import rlp\n",
    "from ethereum.blocks import BlockHeader\n",
    "from ethereum.transactions import Transaction\n",
    "\n",
    "#from ethereum.transactions import EIP155Transaction as Transaction\n",
    "# on EIP-155 branch https://github.com/ethereum/pyethereum/tree/eip155\n",
    "# but broken\n"
   ]
  },
  {
   "cell_type": "code",
   "execution_count": 3,
   "metadata": {
    "collapsed": true,
    "deletable": true,
    "editable": true
   },
   "outputs": [],
   "source": [
    "f = open('/Users/macbook/eth_devops/ropsten-dos-chain.rlp', 'r')\n",
    "outdata = []\n",
    "RESCUE_FORK_BLOCK = 585000\n",
    "LAST_BLOCK = 722677 # this depends on your RLP chain export\n"
   ]
  },
  {
   "cell_type": "code",
   "execution_count": 4,
   "metadata": {
    "collapsed": false,
    "deletable": true,
    "editable": true,
    "scrolled": false
   },
   "outputs": [
    {
     "name": "stdout",
     "output_type": "stream",
     "text": [
      "# 50000\n",
      "# 100000\n",
      "# 150000\n",
      "# 200000\n",
      "# 250000\n",
      "# 300000\n",
      "# 350000\n",
      "# 400000\n",
      "# 450000\n",
      "# 500000\n",
      "# 550000\n",
      "# 600000\n",
      "# 650000\n",
      "# 700000\n",
      "all blocks scraped. total tx count: 260852\n"
     ]
    }
   ],
   "source": [
    "# code here is from https://github.com/ethereum/research/blob/master/uncle_regressions/block_datadump_generator.py\n",
    "\n",
    "blknum, pos = 0, 0\n",
    "\n",
    "txs_to_replay = []\n",
    "tx_total_count = 0\n",
    "while 1:\n",
    "    f.seek(pos)\n",
    "    prefix = f.read(10)\n",
    "    _typ, _len, _pos = rlp.codec.consume_length_prefix(prefix, 0)\n",
    "    blkdata = prefix + f.read(_pos + _len - 10)\n",
    "    header = rlp.decode(rlp.descend(blkdata, 0), BlockHeader)\n",
    "    pos += _pos + _len\n",
    "    if header.number % 50000 == 0:\n",
    "        print \"#\", header.number\n",
    "    if header.number <= RESCUE_FORK_BLOCK:\n",
    "        continue\n",
    "    txs_data = rlp.decode(rlp.descend(blkdata, 1))\n",
    "    txcount = len(txs_data)\n",
    "    tx_total_count += txcount\n",
    "    for tx in txs_data:\n",
    "        txs_to_replay.append(rlp.encode(tx).encode('hex'))\n",
    "    #if header.number > 720000:\n",
    "    #    print header.number # 722677 is the last block in the export   \n",
    "    if header.number == LAST_BLOCK:\n",
    "        break\n",
    "\n",
    "print \"all blocks scraped. total tx count:\", tx_total_count"
   ]
  },
  {
   "cell_type": "code",
   "execution_count": 5,
   "metadata": {
    "collapsed": false,
    "deletable": true,
    "editable": true
   },
   "outputs": [
    {
     "data": {
      "text/plain": [
       "260852"
      ]
     },
     "execution_count": 5,
     "metadata": {},
     "output_type": "execute_result"
    }
   ],
   "source": [
    "len(txs_to_replay)"
   ]
  },
  {
   "cell_type": "code",
   "execution_count": null,
   "metadata": {
    "collapsed": true,
    "deletable": true,
    "editable": true
   },
   "outputs": [],
   "source": []
  },
  {
   "cell_type": "code",
   "execution_count": 6,
   "metadata": {
    "collapsed": true,
    "deletable": true,
    "editable": true
   },
   "outputs": [],
   "source": [
    "# Some views of raw tx's"
   ]
  },
  {
   "cell_type": "code",
   "execution_count": 7,
   "metadata": {
    "collapsed": false,
    "deletable": true,
    "editable": true
   },
   "outputs": [
    {
     "data": {
      "text/plain": [
       "'f8708304c04385746a5288008304cb2694dcd6a8e0419574f529d3726b8e7f5222877102e9880de0b6b3a7640000801ba09a8c1eb3710fdba4250e44c9e4a93f0a1aaa4b47876253563e64684a2fdfdec4a03acde787864c9569d557aad6ed8687751f58132a3603e8f43024dcef51b3f6c9'"
      ]
     },
     "execution_count": 7,
     "metadata": {},
     "output_type": "execute_result"
    }
   ],
   "source": [
    "txs_to_replay[0]"
   ]
  },
  {
   "cell_type": "code",
   "execution_count": 8,
   "metadata": {
    "collapsed": false,
    "deletable": true,
    "editable": true
   },
   "outputs": [
    {
     "data": {
      "text/plain": [
       "'\\xf8p\\x83\\x04\\xc0C\\x85tjR\\x88\\x00\\x83\\x04\\xcb&\\x94\\xdc\\xd6\\xa8\\xe0A\\x95t\\xf5)\\xd3rk\\x8e\\x7fR\"\\x87q\\x02\\xe9\\x88\\r\\xe0\\xb6\\xb3\\xa7d\\x00\\x00\\x80\\x1b\\xa0\\x9a\\x8c\\x1e\\xb3q\\x0f\\xdb\\xa4%\\x0eD\\xc9\\xe4\\xa9?\\n\\x1a\\xaaKG\\x87bSV>dhJ/\\xdf\\xde\\xc4\\xa0:\\xcd\\xe7\\x87\\x86L\\x95i\\xd5W\\xaa\\xd6\\xed\\x86\\x87u\\x1fX\\x13*6\\x03\\xe8\\xf40$\\xdc\\xefQ\\xb3\\xf6\\xc9'"
      ]
     },
     "execution_count": 8,
     "metadata": {},
     "output_type": "execute_result"
    }
   ],
   "source": [
    "txs_to_replay[0].decode('hex')"
   ]
  },
  {
   "cell_type": "code",
   "execution_count": 9,
   "metadata": {
    "collapsed": false,
    "deletable": true,
    "editable": true
   },
   "outputs": [
    {
     "data": {
      "text/plain": [
       "['\\x04\\xc0C',\n",
       " 'tjR\\x88\\x00',\n",
       " '\\x04\\xcb&',\n",
       " '\\xdc\\xd6\\xa8\\xe0A\\x95t\\xf5)\\xd3rk\\x8e\\x7fR\"\\x87q\\x02\\xe9',\n",
       " '\\r\\xe0\\xb6\\xb3\\xa7d\\x00\\x00',\n",
       " '',\n",
       " '\\x1b',\n",
       " '\\x9a\\x8c\\x1e\\xb3q\\x0f\\xdb\\xa4%\\x0eD\\xc9\\xe4\\xa9?\\n\\x1a\\xaaKG\\x87bSV>dhJ/\\xdf\\xde\\xc4',\n",
       " ':\\xcd\\xe7\\x87\\x86L\\x95i\\xd5W\\xaa\\xd6\\xed\\x86\\x87u\\x1fX\\x13*6\\x03\\xe8\\xf40$\\xdc\\xefQ\\xb3\\xf6\\xc9']"
      ]
     },
     "execution_count": 9,
     "metadata": {},
     "output_type": "execute_result"
    }
   ],
   "source": [
    "rlp.decode(txs_to_replay[0].decode('hex'))"
   ]
  },
  {
   "cell_type": "code",
   "execution_count": 10,
   "metadata": {
    "collapsed": false,
    "deletable": true,
    "editable": true
   },
   "outputs": [
    {
     "data": {
      "text/plain": [
       "['04c043',\n",
       " '746a528800',\n",
       " '04cb26',\n",
       " 'dcd6a8e0419574f529d3726b8e7f5222877102e9',\n",
       " '0de0b6b3a7640000',\n",
       " '',\n",
       " '1b',\n",
       " '9a8c1eb3710fdba4250e44c9e4a93f0a1aaa4b47876253563e64684a2fdfdec4',\n",
       " '3acde787864c9569d557aad6ed8687751f58132a3603e8f43024dcef51b3f6c9']"
      ]
     },
     "execution_count": 10,
     "metadata": {},
     "output_type": "execute_result"
    }
   ],
   "source": [
    "[field.encode('hex') for field in rlp.decode(txs_to_replay[0].decode('hex'))]"
   ]
  },
  {
   "cell_type": "code",
   "execution_count": 11,
   "metadata": {
    "collapsed": false,
    "deletable": true,
    "editable": true
   },
   "outputs": [],
   "source": [
    "tx1 = rlp.decode(txs_to_replay[0].decode('hex'), Transaction)"
   ]
  },
  {
   "cell_type": "code",
   "execution_count": 12,
   "metadata": {
    "collapsed": false,
    "deletable": true,
    "editable": true
   },
   "outputs": [
    {
     "data": {
      "text/plain": [
       "[('nonce', <rlp.sedes.big_endian_int.BigEndianInt at 0x1067a9b50>),\n",
       " ('gasprice', <rlp.sedes.big_endian_int.BigEndianInt at 0x1067a9b50>),\n",
       " ('startgas', <rlp.sedes.big_endian_int.BigEndianInt at 0x1067a9b50>),\n",
       " ('to', <rlp.sedes.binary.Binary at 0x10686c510>),\n",
       " ('value', <rlp.sedes.big_endian_int.BigEndianInt at 0x1067a9b50>),\n",
       " ('data', <rlp.sedes.binary.Binary at 0x1067da850>),\n",
       " ('v', <rlp.sedes.big_endian_int.BigEndianInt at 0x1067a9b50>),\n",
       " ('r', <rlp.sedes.big_endian_int.BigEndianInt at 0x1067a9b50>),\n",
       " ('s', <rlp.sedes.big_endian_int.BigEndianInt at 0x1067a9b50>)]"
      ]
     },
     "execution_count": 12,
     "metadata": {},
     "output_type": "execute_result"
    }
   ],
   "source": [
    "tx1.fields"
   ]
  },
  {
   "cell_type": "code",
   "execution_count": 13,
   "metadata": {
    "collapsed": false,
    "deletable": true,
    "editable": true
   },
   "outputs": [
    {
     "name": "stderr",
     "output_type": "stream",
     "text": [
      "/Users/macbook/.virtualenvs/ropsten_rescue-HldH1mX1/lib/python2.7/site-packages/secp256k1/__init__.py:228: UserWarning: implicit cast from 'char *' to a different pointer type: will be forbidden in the future (check that the types are as you expect; use an explicit ffi.cast() if they are correct)\n",
      "  self.ctx, res_compressed, outlen, self.public_key, compflag)\n"
     ]
    },
    {
     "data": {
      "text/plain": [
       "'687422eea2cb73b5d3e242ba5456b782919afc85'"
      ]
     },
     "execution_count": 13,
     "metadata": {},
     "output_type": "execute_result"
    }
   ],
   "source": [
    "tx1.sender.encode('hex') "
   ]
  },
  {
   "cell_type": "code",
   "execution_count": 14,
   "metadata": {
    "collapsed": false,
    "deletable": true,
    "editable": true
   },
   "outputs": [
    {
     "data": {
      "text/plain": [
       "'38f6b069969b4fccecc603ac4ad1449737290de570c0aa642efad23d0cfda47e'"
      ]
     },
     "execution_count": 14,
     "metadata": {},
     "output_type": "execute_result"
    }
   ],
   "source": [
    "tx1.hash.encode('hex')"
   ]
  },
  {
   "cell_type": "code",
   "execution_count": 15,
   "metadata": {
    "collapsed": false,
    "deletable": true,
    "editable": true
   },
   "outputs": [
    {
     "data": {
      "text/plain": [
       "314150"
      ]
     },
     "execution_count": 15,
     "metadata": {},
     "output_type": "execute_result"
    }
   ],
   "source": [
    "tx1.startgas"
   ]
  },
  {
   "cell_type": "code",
   "execution_count": null,
   "metadata": {
    "collapsed": true,
    "deletable": true,
    "editable": true
   },
   "outputs": [],
   "source": []
  },
  {
   "cell_type": "code",
   "execution_count": 16,
   "metadata": {
    "collapsed": false,
    "deletable": true,
    "editable": true
   },
   "outputs": [
    {
     "data": {
      "text/plain": [
       "'f8d2138504a817c800833d090094529631401334eb94a123bf84e38231b56576a18b8802386f26fc100000b86495695a440000000000000000000000000000000000000000000000000000000000000001000000000000000000000000000000000000000000000000000000000000000100000000000000000000000000000000000000000000000000000000000000012aa09073c9cec6fb26b59e86288bc2ba8963c5d5159afd2b099f8b7efba9b9c486e4a06138b0e33a2c1b1f3543a93aab00c178524c2cdf61d0f694d21353a92fee41ca'"
      ]
     },
     "execution_count": 16,
     "metadata": {},
     "output_type": "execute_result"
    }
   ],
   "source": [
    "txs_to_replay[473]"
   ]
  },
  {
   "cell_type": "code",
   "execution_count": 17,
   "metadata": {
    "collapsed": true,
    "deletable": true,
    "editable": true
   },
   "outputs": [],
   "source": [
    "eip_155_tx_obj = rlp.decode(txs_to_replay[473].decode('hex'), Transaction)"
   ]
  },
  {
   "cell_type": "code",
   "execution_count": 18,
   "metadata": {
    "collapsed": false,
    "deletable": true,
    "editable": true
   },
   "outputs": [
    {
     "data": {
      "text/plain": [
       "19"
      ]
     },
     "execution_count": 18,
     "metadata": {},
     "output_type": "execute_result"
    }
   ],
   "source": [
    "eip_155_tx_obj.nonce"
   ]
  },
  {
   "cell_type": "code",
   "execution_count": 19,
   "metadata": {
    "collapsed": false,
    "deletable": true,
    "editable": true
   },
   "outputs": [
    {
     "data": {
      "text/plain": [
       "'42f79eeff40dcb5a972010d574a6542a9195cac1ddf623a70ad4fbe39cf15e8f'"
      ]
     },
     "execution_count": 19,
     "metadata": {},
     "output_type": "execute_result"
    }
   ],
   "source": [
    "eip_155_tx_obj.hash.encode('hex')"
   ]
  },
  {
   "cell_type": "code",
   "execution_count": 20,
   "metadata": {
    "collapsed": false,
    "deletable": true,
    "editable": true
   },
   "outputs": [
    {
     "ename": "InvalidTransaction",
     "evalue": "Invalid signature values!",
     "output_type": "error",
     "traceback": [
      "\u001b[0;31m---------------------------------------------------------------------------\u001b[0m",
      "\u001b[0;31mInvalidTransaction\u001b[0m                        Traceback (most recent call last)",
      "\u001b[0;32m<ipython-input-20-e4257749d2c6>\u001b[0m in \u001b[0;36m<module>\u001b[0;34m()\u001b[0m\n\u001b[0;32m----> 1\u001b[0;31m \u001b[0meip_155_tx_obj\u001b[0m\u001b[0;34m.\u001b[0m\u001b[0msender\u001b[0m \u001b[0;31m# EIP155 branch not quite there yet\u001b[0m\u001b[0;34m\u001b[0m\u001b[0m\n\u001b[0m",
      "\u001b[0;32m/Users/macbook/.virtualenvs/ropsten_rescue-HldH1mX1/lib/python2.7/site-packages/ethereum/transactions.pyc\u001b[0m in \u001b[0;36msender\u001b[0;34m(self)\u001b[0m\n\u001b[1;32m    101\u001b[0m                 \u001b[0mvalid_v\u001b[0m \u001b[0;34m=\u001b[0m \u001b[0mself\u001b[0m\u001b[0;34m.\u001b[0m\u001b[0mnormalized_v\u001b[0m \u001b[0;32min\u001b[0m \u001b[0;34m(\u001b[0m\u001b[0;36m0\u001b[0m\u001b[0;34m,\u001b[0m \u001b[0;36m1\u001b[0m\u001b[0;34m)\u001b[0m\u001b[0;34m\u001b[0m\u001b[0m\n\u001b[1;32m    102\u001b[0m                 \u001b[0;32mif\u001b[0m \u001b[0;32mnot\u001b[0m \u001b[0mall\u001b[0m\u001b[0;34m(\u001b[0m\u001b[0;34m[\u001b[0m\u001b[0mvalid_r\u001b[0m\u001b[0;34m,\u001b[0m \u001b[0mvalid_s\u001b[0m\u001b[0;34m,\u001b[0m \u001b[0mvalid_v\u001b[0m\u001b[0;34m]\u001b[0m\u001b[0;34m)\u001b[0m\u001b[0;34m:\u001b[0m\u001b[0;34m\u001b[0m\u001b[0m\n\u001b[0;32m--> 103\u001b[0;31m                     \u001b[0;32mraise\u001b[0m \u001b[0mInvalidTransaction\u001b[0m\u001b[0;34m(\u001b[0m\u001b[0;34m\"Invalid signature values!\"\u001b[0m\u001b[0;34m)\u001b[0m\u001b[0;34m\u001b[0m\u001b[0m\n\u001b[0m\u001b[1;32m    104\u001b[0m                 \u001b[0mlog\u001b[0m\u001b[0;34m.\u001b[0m\u001b[0mdebug\u001b[0m\u001b[0;34m(\u001b[0m\u001b[0;34m'recovering sender'\u001b[0m\u001b[0;34m)\u001b[0m\u001b[0;34m\u001b[0m\u001b[0m\n\u001b[1;32m    105\u001b[0m \u001b[0;34m\u001b[0m\u001b[0m\n",
      "\u001b[0;31mInvalidTransaction\u001b[0m: Invalid signature values!"
     ]
    }
   ],
   "source": [
    "eip_155_tx_obj.sender # EIP155 branch not quite there yet"
   ]
  },
  {
   "cell_type": "code",
   "execution_count": null,
   "metadata": {
    "collapsed": true,
    "deletable": true,
    "editable": true
   },
   "outputs": [],
   "source": []
  },
  {
   "cell_type": "code",
   "execution_count": null,
   "metadata": {
    "collapsed": true,
    "deletable": true,
    "editable": true
   },
   "outputs": [],
   "source": []
  },
  {
   "cell_type": "code",
   "execution_count": 21,
   "metadata": {
    "collapsed": true,
    "deletable": true,
    "editable": true
   },
   "outputs": [],
   "source": [
    "# loop through and filter attack tx's with startgas over 5 million"
   ]
  },
  {
   "cell_type": "code",
   "execution_count": 22,
   "metadata": {
    "collapsed": false,
    "deletable": true,
    "editable": true,
    "scrolled": false
   },
   "outputs": [
    {
     "name": "stdout",
     "output_type": "stream",
     "text": [
      "doing tx i: 10000\n",
      "doing tx i: 20000\n",
      "doing tx i: 30000\n",
      "doing tx i: 40000\n",
      "doing tx i: 50000\n",
      "doing tx i: 60000\n",
      "doing tx i: 70000\n",
      "doing tx i: 80000\n",
      "doing tx i: 90000\n",
      "doing tx i: 100000\n",
      "doing tx i: 110000\n",
      "doing tx i: 120000\n",
      "doing tx i: 130000\n",
      "doing tx i: 140000\n",
      "doing tx i: 150000\n",
      "doing tx i: 160000\n",
      "doing tx i: 170000\n",
      "doing tx i: 180000\n",
      "doing tx i: 190000\n",
      "doing tx i: 200000\n",
      "doing tx i: 210000\n",
      "doing tx i: 220000\n",
      "doing tx i: 230000\n",
      "doing tx i: 240000\n",
      "doing tx i: 250000\n",
      "doing tx i: 260000\n",
      "all done.\n"
     ]
    }
   ],
   "source": [
    "default_gas_price = 20000000000\n",
    "low_price_txs = [] # low price tx's won't be replayed unless mining node accepts them\n",
    "good_txs = []\n",
    "excluded_hashes = []\n",
    "excluded_count = 0\n",
    "total_gas = 0\n",
    "total_gas_including_bad = 0\n",
    "\n",
    "i = 0\n",
    "for tx_hex in txs_to_replay:\n",
    "    i += 1\n",
    "    if i % 10000 == 0:\n",
    "        print \"doing tx i:\", i\n",
    "    tx_obj = rlp.decode(tx_hex.decode('hex'), Transaction)\n",
    "    total_gas_including_bad += tx_obj.startgas\n",
    "    if tx_obj.startgas < 5000000: # good tx's have startgas less than 5 million\n",
    "        good_txs.append(tx_hex)\n",
    "        total_gas += tx_obj.startgas\n",
    "        if tx_obj.gasprice < default_gas_price:\n",
    "            low_price_txs.append([tx_obj.gasprice, tx_obj.hash.encode('hex')])\n",
    "       \n",
    "    else:\n",
    "        # attacker tx's have startgas greater than 5 million\n",
    "        excluded_count += 1 \n",
    "        excluded_hashes.append(tx_obj.hash.encode('hex')) \n",
    "        #sender = tx_obj.sender.encode('hex') # breaks on EIP-155\n",
    "\n",
    "print \"all done.\""
   ]
  },
  {
   "cell_type": "code",
   "execution_count": 23,
   "metadata": {
    "collapsed": false,
    "deletable": true,
    "editable": true
   },
   "outputs": [
    {
     "data": {
      "text/plain": [
       "233919249349"
      ]
     },
     "execution_count": 23,
     "metadata": {},
     "output_type": "execute_result"
    }
   ],
   "source": [
    "total_gas"
   ]
  },
  {
   "cell_type": "code",
   "execution_count": 24,
   "metadata": {
    "collapsed": false,
    "deletable": true,
    "editable": true
   },
   "outputs": [
    {
     "data": {
      "text/plain": [
       "9278"
      ]
     },
     "execution_count": 24,
     "metadata": {},
     "output_type": "execute_result"
    }
   ],
   "source": [
    "excluded_count"
   ]
  },
  {
   "cell_type": "code",
   "execution_count": 25,
   "metadata": {
    "collapsed": false,
    "deletable": true,
    "editable": true
   },
   "outputs": [
    {
     "data": {
      "text/plain": [
       "532306863342"
      ]
     },
     "execution_count": 25,
     "metadata": {},
     "output_type": "execute_result"
    }
   ],
   "source": [
    "total_gas_including_bad"
   ]
  },
  {
   "cell_type": "code",
   "execution_count": 26,
   "metadata": {
    "collapsed": false,
    "deletable": true,
    "editable": true
   },
   "outputs": [
    {
     "data": {
      "text/plain": [
       "142"
      ]
     },
     "execution_count": 26,
     "metadata": {},
     "output_type": "execute_result"
    }
   ],
   "source": [
    "len(low_price_txs)"
   ]
  },
  {
   "cell_type": "code",
   "execution_count": 27,
   "metadata": {
    "collapsed": false,
    "deletable": true,
    "editable": true
   },
   "outputs": [
    {
     "data": {
      "text/plain": [
       "251574"
      ]
     },
     "execution_count": 27,
     "metadata": {},
     "output_type": "execute_result"
    }
   ],
   "source": [
    "len(good_txs)"
   ]
  },
  {
   "cell_type": "code",
   "execution_count": 28,
   "metadata": {
    "collapsed": true,
    "deletable": true,
    "editable": true
   },
   "outputs": [],
   "source": [
    "txs_to_replay = good_txs"
   ]
  },
  {
   "cell_type": "code",
   "execution_count": null,
   "metadata": {
    "collapsed": true,
    "deletable": true,
    "editable": true
   },
   "outputs": [],
   "source": []
  },
  {
   "cell_type": "code",
   "execution_count": 29,
   "metadata": {
    "collapsed": true,
    "deletable": true,
    "editable": true
   },
   "outputs": [],
   "source": [
    "def sumGas(tx_list):\n",
    "    total_gas = 0\n",
    "    for tx_hex in tx_list:\n",
    "        tx_obj = rlp.decode(tx_hex.decode('hex'), Transaction)\n",
    "        total_gas += tx_obj.startgas\n",
    "    return total_gas"
   ]
  },
  {
   "cell_type": "code",
   "execution_count": null,
   "metadata": {
    "collapsed": true,
    "deletable": true,
    "editable": true
   },
   "outputs": [],
   "source": []
  },
  {
   "cell_type": "code",
   "execution_count": 30,
   "metadata": {
    "collapsed": true,
    "deletable": true,
    "editable": true
   },
   "outputs": [],
   "source": [
    "# saving the tx's into batches, otherwise its one huge json file\n",
    "# manually choosing batch sizes based on total startgas and file size"
   ]
  },
  {
   "cell_type": "code",
   "execution_count": 31,
   "metadata": {
    "collapsed": false,
    "deletable": true,
    "editable": true
   },
   "outputs": [
    {
     "data": {
      "text/plain": [
       "5633707563"
      ]
     },
     "execution_count": 31,
     "metadata": {},
     "output_type": "execute_result"
    }
   ],
   "source": [
    "sumGas(txs_to_replay[0:25000])"
   ]
  },
  {
   "cell_type": "code",
   "execution_count": 32,
   "metadata": {
    "collapsed": true,
    "deletable": true,
    "editable": true
   },
   "outputs": [],
   "source": [
    "with open('txs_batch_0_to_25k.json', 'w') as f:\n",
    "    json.dump(txs_to_replay[0:25000], f)"
   ]
  },
  {
   "cell_type": "code",
   "execution_count": null,
   "metadata": {
    "collapsed": true,
    "deletable": true,
    "editable": true
   },
   "outputs": [],
   "source": []
  },
  {
   "cell_type": "code",
   "execution_count": 33,
   "metadata": {
    "collapsed": false,
    "deletable": true,
    "editable": true
   },
   "outputs": [
    {
     "data": {
      "text/plain": [
       "19591387570"
      ]
     },
     "execution_count": 33,
     "metadata": {},
     "output_type": "execute_result"
    }
   ],
   "source": [
    "# starting at 24999 instead of 25000 will replay first tx twice\n",
    "# replaying multiple times is no problem, will just get a 'nonce too low' error from the node\n",
    "sumGas(txs_to_replay[24999:50000]) "
   ]
  },
  {
   "cell_type": "code",
   "execution_count": 34,
   "metadata": {
    "collapsed": true,
    "deletable": true,
    "editable": true
   },
   "outputs": [],
   "source": [
    "with open('txs_batch_25k_to_50k.json', 'w') as f:\n",
    "    json.dump(txs_to_replay[24999:50000], f)"
   ]
  },
  {
   "cell_type": "code",
   "execution_count": 35,
   "metadata": {
    "collapsed": false,
    "deletable": true,
    "editable": true
   },
   "outputs": [
    {
     "data": {
      "text/plain": [
       "8795063601"
      ]
     },
     "execution_count": 35,
     "metadata": {},
     "output_type": "execute_result"
    }
   ],
   "source": [
    "sumGas(txs_to_replay[49999:60000])"
   ]
  },
  {
   "cell_type": "code",
   "execution_count": 36,
   "metadata": {
    "collapsed": true,
    "deletable": true,
    "editable": true
   },
   "outputs": [],
   "source": [
    "with open('txs_batch_50k_to_60k.json', 'w') as f:\n",
    "    json.dump(txs_to_replay[49999:60000], f)"
   ]
  },
  {
   "cell_type": "code",
   "execution_count": 37,
   "metadata": {
    "collapsed": false,
    "deletable": true,
    "editable": true
   },
   "outputs": [
    {
     "data": {
      "text/plain": [
       "9682211635"
      ]
     },
     "execution_count": 37,
     "metadata": {},
     "output_type": "execute_result"
    }
   ],
   "source": [
    "sumGas(txs_to_replay[59999:70000])"
   ]
  },
  {
   "cell_type": "code",
   "execution_count": 38,
   "metadata": {
    "collapsed": true,
    "deletable": true,
    "editable": true
   },
   "outputs": [],
   "source": [
    "with open('txs_batch_60k_to_70k.json', 'w') as f:\n",
    "    json.dump(txs_to_replay[59999:70000], f)"
   ]
  },
  {
   "cell_type": "code",
   "execution_count": 39,
   "metadata": {
    "collapsed": false,
    "deletable": true,
    "editable": true
   },
   "outputs": [
    {
     "data": {
      "text/plain": [
       "2120194297"
      ]
     },
     "execution_count": 39,
     "metadata": {},
     "output_type": "execute_result"
    }
   ],
   "source": [
    "sumGas(txs_to_replay[69999:75000])"
   ]
  },
  {
   "cell_type": "code",
   "execution_count": 40,
   "metadata": {
    "collapsed": true,
    "deletable": true,
    "editable": true
   },
   "outputs": [],
   "source": [
    "with open('txs_batch_70k_to_75k.json', 'w') as f:\n",
    "    json.dump(txs_to_replay[69999:75000], f)"
   ]
  },
  {
   "cell_type": "code",
   "execution_count": 41,
   "metadata": {
    "collapsed": false,
    "deletable": true,
    "editable": true
   },
   "outputs": [
    {
     "data": {
      "text/plain": [
       "21796283894"
      ]
     },
     "execution_count": 41,
     "metadata": {},
     "output_type": "execute_result"
    }
   ],
   "source": [
    "sumGas(txs_to_replay[74999:100000])"
   ]
  },
  {
   "cell_type": "code",
   "execution_count": 42,
   "metadata": {
    "collapsed": true,
    "deletable": true,
    "editable": true
   },
   "outputs": [],
   "source": [
    "with open('txs_batch_75k_to_100k.json', 'w') as f:\n",
    "    json.dump(txs_to_replay[74999:100000], f)"
   ]
  },
  {
   "cell_type": "code",
   "execution_count": 43,
   "metadata": {
    "collapsed": false,
    "deletable": true,
    "editable": true
   },
   "outputs": [
    {
     "data": {
      "text/plain": [
       "64249856087"
      ]
     },
     "execution_count": 43,
     "metadata": {},
     "output_type": "execute_result"
    }
   ],
   "source": [
    "sumGas(txs_to_replay[99999:150000])"
   ]
  },
  {
   "cell_type": "code",
   "execution_count": 44,
   "metadata": {
    "collapsed": true,
    "deletable": true,
    "editable": true
   },
   "outputs": [],
   "source": [
    "with open('txs_batch_100k_to_150k.json', 'w') as f:\n",
    "    json.dump(txs_to_replay[99999:150000], f)"
   ]
  },
  {
   "cell_type": "code",
   "execution_count": 45,
   "metadata": {
    "collapsed": true,
    "deletable": true,
    "editable": true
   },
   "outputs": [],
   "source": [
    "with open('txs_batch_150k_to_160k.json', 'w') as f:\n",
    "    json.dump(txs_to_replay[149999:160000], f)"
   ]
  },
  {
   "cell_type": "code",
   "execution_count": 46,
   "metadata": {
    "collapsed": true,
    "deletable": true,
    "editable": true
   },
   "outputs": [],
   "source": [
    "with open('txs_batch_160k_to_170k.json', 'w') as f:\n",
    "    json.dump(txs_to_replay[159999:170000], f)"
   ]
  },
  {
   "cell_type": "code",
   "execution_count": 47,
   "metadata": {
    "collapsed": true,
    "deletable": true,
    "editable": true
   },
   "outputs": [],
   "source": [
    "with open('txs_batch_170k_to_180k.json', 'w') as f:\n",
    "    json.dump(txs_to_replay[169999:180000], f)"
   ]
  },
  {
   "cell_type": "code",
   "execution_count": 48,
   "metadata": {
    "collapsed": true,
    "deletable": true,
    "editable": true
   },
   "outputs": [],
   "source": [
    "with open('txs_batch_180k_to_190k.json', 'w') as f:\n",
    "    json.dump(txs_to_replay[179999:190000], f)"
   ]
  },
  {
   "cell_type": "code",
   "execution_count": 49,
   "metadata": {
    "collapsed": true,
    "deletable": true,
    "editable": true
   },
   "outputs": [],
   "source": [
    "with open('txs_batch_190k_to_220k.json', 'w') as f:\n",
    "    json.dump(txs_to_replay[189999:220000], f)"
   ]
  },
  {
   "cell_type": "code",
   "execution_count": 50,
   "metadata": {
    "collapsed": true,
    "deletable": true,
    "editable": true
   },
   "outputs": [],
   "source": [
    "with open('txs_batch_220k_to_250k+.json', 'w') as f:\n",
    "    json.dump(txs_to_replay[219999:], f)"
   ]
  },
  {
   "cell_type": "code",
   "execution_count": null,
   "metadata": {
    "collapsed": true,
    "deletable": true,
    "editable": true
   },
   "outputs": [],
   "source": []
  },
  {
   "cell_type": "code",
   "execution_count": null,
   "metadata": {
    "collapsed": true,
    "deletable": true,
    "editable": true
   },
   "outputs": [],
   "source": []
  },
  {
   "cell_type": "code",
   "execution_count": 51,
   "metadata": {
    "collapsed": true,
    "deletable": true,
    "editable": true
   },
   "outputs": [],
   "source": [
    "# or automate the batch sizes"
   ]
  },
  {
   "cell_type": "code",
   "execution_count": 52,
   "metadata": {
    "collapsed": false,
    "deletable": true,
    "editable": true
   },
   "outputs": [
    {
     "name": "stdout",
     "output_type": "stream",
     "text": [
      "wrote ropsten_rescue_txs_1.json\n",
      "wrote ropsten_rescue_txs_2.json\n",
      "wrote ropsten_rescue_txs_3.json\n",
      "wrote ropsten_rescue_txs_4.json\n",
      "wrote ropsten_rescue_txs_5.json\n",
      "wrote ropsten_rescue_txs_6.json\n",
      "wrote ropsten_rescue_txs_7.json\n",
      "wrote ropsten_rescue_txs_8.json\n",
      "wrote ropsten_rescue_txs_9.json\n",
      "wrote ropsten_rescue_txs_10.json\n",
      "wrote ropsten_rescue_txs_11.json\n",
      "wrote ropsten_rescue_txs_12.json\n",
      "wrote ropsten_rescue_txs_13.json\n"
     ]
    }
   ],
   "source": [
    "BATCH_SIZE = 1000000 * 25 # 25 megabyte json files\n",
    "\n",
    "batch_i = 1\n",
    "current_batch_len = 0\n",
    "tx_batch = []\n",
    "for tx in txs_to_replay:\n",
    "    tx_batch.append(tx)\n",
    "    current_batch_len += len(tx)\n",
    "    if current_batch_len > BATCH_SIZE:\n",
    "        file_name = 'ropsten_rescue_txs_' + str(batch_i) + '.json'\n",
    "        with open(file_name, 'w') as f:\n",
    "            json.dump(tx_batch, f)\n",
    "            print \"wrote\", file_name\n",
    "        tx_batch = []\n",
    "        current_batch_len = 0\n",
    "        batch_i += 1"
   ]
  },
  {
   "cell_type": "code",
   "execution_count": null,
   "metadata": {
    "collapsed": true,
    "deletable": true,
    "editable": true
   },
   "outputs": [],
   "source": []
  }
 ],
 "metadata": {
  "kernelspec": {
   "display_name": "Python 2",
   "language": "python",
   "name": "python2"
  },
  "language_info": {
   "codemirror_mode": {
    "name": "ipython",
    "version": 2
   },
   "file_extension": ".py",
   "mimetype": "text/x-python",
   "name": "python",
   "nbconvert_exporter": "python",
   "pygments_lexer": "ipython2",
   "version": "2.7.12"
  }
 },
 "nbformat": 4,
 "nbformat_minor": 2
}
